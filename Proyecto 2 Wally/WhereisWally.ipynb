{
 "cells": [
  {
   "cell_type": "code",
   "execution_count": 2,
   "id": "59f77874",
   "metadata": {},
   "outputs": [],
   "source": [
    "import numpy as np\n",
    "import cv2 as cv\n",
    "import os"
   ]
  },
  {
   "cell_type": "markdown",
   "id": "80f1c1e6",
   "metadata": {},
   "source": [
    "## Where is wally?"
   ]
  },
  {
   "cell_type": "code",
   "execution_count": 3,
   "id": "25305d99",
   "metadata": {},
   "outputs": [],
   "source": [
    "\n",
    "# Carga la Imagen\n",
    "image = cv.imread(r'E:\\IA\\Proyecto 2 Where is Wally\\Prueba 2\\wiw1.png')\n",
    "\n",
    "gray = cv.cvtColor(image, cv.COLOR_BGR2GRAY)\n",
    "\n",
    "# Carga el xml\n",
    "wiw = cv.CascadeClassifier(r'E:\\IA\\Proyecto 2 Where is Wally\\Prueba 2\\entrenamiento.xml')\n",
    "\n",
    "# Parametros para detectar a wally\n",
    "wiw_detections = wiw.detectMultiScale(gray, scaleFactor=1.1, minNeighbors=6, minSize=(5,5))\n",
    "\n",
    "# Dibuja Rectangulos y pone el texto\n",
    "for (x, y, w, h) in wiw_detections:\n",
    "    cv.rectangle(image, (x, y), (x + w, y + h), (0, 255, 0), 2)\n",
    "    cv.putText(image, 'Wally', (x, y - 10), cv.FONT_HERSHEY_SIMPLEX, 0.9, (0, 255, 0), 2)\n",
    "\n",
    "# Muestra el resultado\n",
    "cv.imshow('¿Donde esta Wally?', image)\n",
    "cv.waitKey(0)\n",
    "cv.destroyAllWindows()\n",
    "\n"
   ]
  },
  {
   "cell_type": "markdown",
   "id": "78e860a9",
   "metadata": {},
   "source": [
    "### Imagen 2"
   ]
  },
  {
   "cell_type": "code",
   "execution_count": 21,
   "id": "5d1edefb",
   "metadata": {},
   "outputs": [],
   "source": [
    "# Carga la Imagen\n",
    "image = cv.imread(r'E:\\IA\\Proyecto 2 Where is Wally\\Prueba 2\\wiw2.png')\n",
    "\n",
    "gray = cv.cvtColor(image, cv.COLOR_BGR2GRAY)\n",
    "\n",
    "# Carga el xml\n",
    "wiw = cv.CascadeClassifier(r'E:\\IA\\Proyecto 2 Where is Wally\\Prueba 2\\entrenamiento.xml')\n",
    "\n",
    "# Parametros para detectar a wally\n",
    "wiw_detections = wiw.detectMultiScale(gray, scaleFactor=1.07, minNeighbors=11, minSize=(5,5))\n",
    "\n",
    "# Dibuja Rectangulos y pone el texto\n",
    "for (x, y, w, h) in wiw_detections:\n",
    "    cv.rectangle(image, (x, y), (x + w, y + h), (0, 255, 0), 2)\n",
    "    cv.putText(image, 'Wally', (x, y - 10), cv.FONT_HERSHEY_SIMPLEX, 0.9, (0, 255, 0), 2)\n",
    "\n",
    "# Muestra el resultado\n",
    "cv.imshow('¿Donde esta Wally?', image)\n",
    "cv.waitKey(0)\n",
    "cv.destroyAllWindows()"
   ]
  },
  {
   "cell_type": "markdown",
   "id": "ac61aabd",
   "metadata": {},
   "source": [
    "### Imagen 3"
   ]
  },
  {
   "cell_type": "code",
   "execution_count": 22,
   "id": "708ec8cc",
   "metadata": {},
   "outputs": [],
   "source": [
    "# Carga la Imagen\n",
    "image = cv.imread(r'E:\\IA\\Proyecto 2 Where is Wally\\Prueba 2\\wiw3.png')\n",
    "\n",
    "gray = cv.cvtColor(image, cv.COLOR_BGR2GRAY)\n",
    "\n",
    "# Carga el xml\n",
    "wiw = cv.CascadeClassifier(r'E:\\IA\\Proyecto 2 Where is Wally\\Prueba 2\\entrenamiento.xml')\n",
    "\n",
    "# Parametros para detectar a wally\n",
    "wiw_detections = wiw.detectMultiScale(gray, scaleFactor=1.074, minNeighbors=11, minSize=(5,5))\n",
    "\n",
    "# Dibuja Rectangulos y pone el texto\n",
    "for (x, y, w, h) in wiw_detections:\n",
    "    cv.rectangle(image, (x, y), (x + w, y + h), (0, 255, 0), 2)\n",
    "    cv.putText(image, 'Wally', (x, y - 10), cv.FONT_HERSHEY_SIMPLEX, 0.9, (0, 255, 0), 2)\n",
    "\n",
    "# Muestra el resultado\n",
    "cv.imshow('¿Donde esta Wally?', image)\n",
    "cv.waitKey(0)\n",
    "cv.destroyAllWindows()"
   ]
  },
  {
   "cell_type": "markdown",
   "id": "53638a66",
   "metadata": {},
   "source": [
    "### Imagen 4"
   ]
  },
  {
   "cell_type": "code",
   "execution_count": 64,
   "id": "773ea58c",
   "metadata": {},
   "outputs": [],
   "source": [
    "# Carga la Imagen\n",
    "image = cv.imread(r'E:\\IA\\Proyecto 2 Where is Wally\\Prueba 2\\wiw4.png')\n",
    "\n",
    "gray = cv.cvtColor(image, cv.COLOR_BGR2GRAY)\n",
    "\n",
    "# Carga el xml\n",
    "wiw = cv.CascadeClassifier(r'E:\\IA\\Proyecto 2 Where is Wally\\Prueba 2\\entrenamiento.xml')\n",
    "\n",
    "# Parametros para detectar a wally\n",
    "wiw_detections = wiw.detectMultiScale(gray, scaleFactor=1.04, minNeighbors=10, minSize=(10,10))\n",
    "\n",
    "# Dibuja Rectangulos y pone el texto\n",
    "for (x, y, w, h) in wiw_detections:\n",
    "    cv.rectangle(image, (x, y), (x + w, y + h), (0, 255, 0), 2)\n",
    "    cv.putText(image, 'Wally', (x, y - 10), cv.FONT_HERSHEY_SIMPLEX, 0.9, (0, 255, 0), 2)\n",
    "\n",
    "# Muestra el resultado\n",
    "cv.imshow('¿Donde esta Wally?', image)\n",
    "cv.waitKey(0)\n",
    "cv.destroyAllWindows()"
   ]
  },
  {
   "cell_type": "markdown",
   "id": "890459dd",
   "metadata": {},
   "source": [
    "## Imagen 5\n"
   ]
  },
  {
   "cell_type": "code",
   "execution_count": 58,
   "id": "dfe67440",
   "metadata": {},
   "outputs": [],
   "source": [
    "# Carga la Imagen\n",
    "image = cv.imread(r'E:\\IA\\Proyecto 2 Where is Wally\\Prueba 2\\wiw5.png')\n",
    "\n",
    "gray = cv.cvtColor(image, cv.COLOR_BGR2GRAY)\n",
    "\n",
    "# Carga el xml\n",
    "wiw = cv.CascadeClassifier(r'E:\\IA\\Proyecto 2 Where is Wally\\Prueba 2\\entrenamiento.xml')\n",
    "\n",
    "# Parametros para detectar a wally\n",
    "wiw_detections = wiw.detectMultiScale(gray, scaleFactor=1.06, minNeighbors=10, minSize=(10,10))\n",
    "\n",
    "# Dibuja Rectangulos y pone el texto\n",
    "for (x, y, w, h) in wiw_detections:\n",
    "    cv.rectangle(image, (x, y), (x + w, y + h), (0, 255, 0), 2)\n",
    "    cv.putText(image, 'Wally', (x, y - 10), cv.FONT_HERSHEY_SIMPLEX, 0.9, (0, 255, 0), 2)\n",
    "\n",
    "# Muestra el resultado\n",
    "cv.imshow('¿Donde esta Wally?', image)\n",
    "cv.waitKey(0)\n",
    "cv.destroyAllWindows()"
   ]
  },
  {
   "cell_type": "markdown",
   "id": "70d4a3be",
   "metadata": {},
   "source": [
    "## Imagen 6"
   ]
  },
  {
   "cell_type": "code",
   "execution_count": 59,
   "id": "ee598650",
   "metadata": {},
   "outputs": [],
   "source": [
    "# Carga la Imagen\n",
    "image = cv.imread(r'E:\\IA\\Proyecto 2 Where is Wally\\Prueba 2\\wiw6.png')\n",
    "\n",
    "gray = cv.cvtColor(image, cv.COLOR_BGR2GRAY)\n",
    "\n",
    "# Carga el xml\n",
    "wiw = cv.CascadeClassifier(r'E:\\IA\\Proyecto 2 Where is Wally\\Prueba 2\\entrenamiento.xml')\n",
    "\n",
    "# Parametros para detectar a wally\n",
    "wiw_detections = wiw.detectMultiScale(gray, scaleFactor=1.05, minNeighbors=11, minSize=(10,10))\n",
    "\n",
    "# Dibuja Rectangulos y pone el texto\n",
    "for (x, y, w, h) in wiw_detections:\n",
    "    cv.rectangle(image, (x, y), (x + w, y + h), (0, 255, 0), 2)\n",
    "    cv.putText(image, 'Wally', (x, y - 10), cv.FONT_HERSHEY_SIMPLEX, 0.9, (0, 255, 0), 2)\n",
    "\n",
    "# Muestra el resultado\n",
    "cv.imshow('¿Donde esta Wally?', image)\n",
    "cv.waitKey(0)\n",
    "cv.destroyAllWindows()"
   ]
  },
  {
   "cell_type": "markdown",
   "id": "a03bacf5",
   "metadata": {},
   "source": [
    "## imagen 7\n"
   ]
  },
  {
   "cell_type": "code",
   "execution_count": 16,
   "id": "d5ca0abc",
   "metadata": {},
   "outputs": [],
   "source": [
    "# Carga la Imagen\n",
    "image = cv.imread(r'E:\\IA\\Proyecto 2 Where is Wally\\Prueba 2\\wiw7.png')\n",
    "\n",
    "gray = cv.cvtColor(image, cv.COLOR_BGR2GRAY)\n",
    "\n",
    "# Carga el xml\n",
    "wiw = cv.CascadeClassifier(r'E:\\IA\\Proyecto 2 Where is Wally\\Prueba 2\\entrenamiento.xml')\n",
    "\n",
    "# Parametros para detectar a wally\n",
    "wiw_detections = wiw.detectMultiScale(gray, scaleFactor=1.5, minNeighbors=2, minSize=(5, 5))\n",
    "\n",
    "# Dibuja Rectangulos y pone el texto\n",
    "for (x, y, w, h) in wiw_detections:\n",
    "    cv.rectangle(image, (x, y), (x + w, y + h), (0, 255, 0), 2)\n",
    "    cv.putText(image, 'Wally', (x, y - 10), cv.FONT_HERSHEY_SIMPLEX, 0.9, (0, 255, 0), 2)\n",
    "\n",
    "# Muestra el resultado\n",
    "cv.imshow('¿Donde esta Wally?', image)\n",
    "cv.waitKey(0)\n",
    "cv.destroyAllWindows()"
   ]
  },
  {
   "cell_type": "code",
   "execution_count": 15,
   "id": "4c0c38b2",
   "metadata": {},
   "outputs": [],
   "source": [
    "# Carga la Imagen\n",
    "image = cv.imread(r'E:\\IA\\Proyecto 2 Where is Wally\\Prueba 2\\wiw8.png')\n",
    "\n",
    "gray = cv.cvtColor(image, cv.COLOR_BGR2GRAY)\n",
    "\n",
    "# Carga el xml\n",
    "wiw = cv.CascadeClassifier(r'E:\\IA\\Proyecto 2 Where is Wally\\Prueba 2\\entrenamiento.xml')\n",
    "\n",
    "# Parametros para detectar a wally\n",
    "wiw_detections = wiw.detectMultiScale(gray, scaleFactor=1.04, minNeighbors=12, minSize=(20,20))\n",
    "# Dibuja Rectangulos y pone el texto\n",
    "for (x, y, w, h) in wiw_detections:\n",
    "    cv.rectangle(image, (x, y), (x + w, y + h), (0, 255, 0), 2)\n",
    "    cv.putText(image, 'Wally', (x, y - 10), cv.FONT_HERSHEY_SIMPLEX, 0.9, (0, 255, 0), 2)\n",
    "\n",
    "# Muestra el resultado\n",
    "cv.imshow('¿Donde esta Wally?', image)\n",
    "cv.waitKey(0)\n",
    "cv.destroyAllWindows()"
   ]
  },
  {
   "cell_type": "code",
   "execution_count": 22,
   "id": "1db33fbc",
   "metadata": {},
   "outputs": [],
   "source": [
    "# Carga la Imagen\n",
    "image = cv.imread(r'E:\\IA\\Proyecto 2 Where is Wally\\Prueba 2\\wiw9.png')\n",
    "\n",
    "gray = cv.cvtColor(image, cv.COLOR_BGR2GRAY)\n",
    "\n",
    "# Carga el xml\n",
    "wiw = cv.CascadeClassifier(r'E:\\IA\\Proyecto 2 Where is Wally\\Prueba 2\\entrenamiento.xml')\n",
    "\n",
    "# Parametros para detectar a wally\n",
    "wiw_detections = wiw.detectMultiScale(gray, scaleFactor=1.22, minNeighbors=10, minSize=(10,10))\n",
    "# Dibuja Rectangulos y pone el texto\n",
    "for (x, y, w, h) in wiw_detections:\n",
    "    cv.rectangle(image, (x, y), (x + w, y + h), (0, 255, 0), 2)\n",
    "    cv.putText(image, 'Wally', (x, y - 10), cv.FONT_HERSHEY_SIMPLEX, 0.9, (0, 255, 0), 2)\n",
    "\n",
    "# Muestra el resultado\n",
    "cv.imshow('¿Donde esta Wally?', image)\n",
    "cv.waitKey(0)\n",
    "cv.destroyAllWindows()"
   ]
  },
  {
   "cell_type": "code",
   "execution_count": 21,
   "id": "af0a0a4b",
   "metadata": {},
   "outputs": [],
   "source": [
    "# Carga la Imagen\n",
    "image = cv.imread(r'E:\\IA\\Proyecto 2 Where is Wally\\Prueba 2\\wiw10.png')\n",
    "\n",
    "gray = cv.cvtColor(image, cv.COLOR_BGR2GRAY)\n",
    "\n",
    "# Carga el xml\n",
    "wiw = cv.CascadeClassifier(r'E:\\IA\\Proyecto 2 Where is Wally\\Prueba 2\\entrenamiento.xml')\n",
    "\n",
    "# Parametros para detectar a wally\n",
    "wiw_detections = wiw.detectMultiScale(gray, scaleFactor=1.08, minNeighbors=13, minSize=(33,33))\n",
    "# Dibuja Rectangulos y pone el texto\n",
    "for (x, y, w, h) in wiw_detections:\n",
    "    cv.rectangle(image, (x, y), (x + w, y + h), (0, 255, 0), 2)\n",
    "    cv.putText(image, 'Wally', (x, y - 10), cv.FONT_HERSHEY_SIMPLEX, 0.9, (0, 255, 0), 2)\n",
    "\n",
    "# Muestra el resultado\n",
    "cv.imshow('¿Donde esta Wally?', image)\n",
    "cv.waitKey(0)\n",
    "cv.destroyAllWindows()"
   ]
  },
  {
   "cell_type": "code",
   "execution_count": 20,
   "id": "fe4de7a2",
   "metadata": {},
   "outputs": [],
   "source": [
    "# Carga la Imagen\n",
    "image = cv.imread(r'E:\\IA\\Proyecto 2 Where is Wally\\Prueba 2\\wiw11.png')\n",
    "\n",
    "gray = cv.cvtColor(image, cv.COLOR_BGR2GRAY)\n",
    "\n",
    "# Carga el xml\n",
    "wiw = cv.CascadeClassifier(r'E:\\IA\\Proyecto 2 Where is Wally\\Prueba 2\\entrenamiento.xml')\n",
    "\n",
    "# Parametros para detectar a wally\n",
    "wiw_detections = wiw.detectMultiScale(gray, scaleFactor=1.05, minNeighbors=19, minSize=(30,30))\n",
    "# Dibuja Rectangulos y pone el texto\n",
    "for (x, y, w, h) in wiw_detections:\n",
    "    cv.rectangle(image, (x, y), (x + w, y + h), (0, 255, 0), 2)\n",
    "    cv.putText(image, 'Wally', (x, y - 10), cv.FONT_HERSHEY_SIMPLEX, 0.9, (0, 255, 0), 2)\n",
    "\n",
    "# Muestra el resultado\n",
    "cv.imshow('¿Donde esta Wally?', image)\n",
    "cv.waitKey(0)\n",
    "cv.destroyAllWindows()"
   ]
  },
  {
   "cell_type": "code",
   "execution_count": 17,
   "id": "e79176c2",
   "metadata": {},
   "outputs": [],
   "source": [
    "# Carga la Imagen\n",
    "image = cv.imread(r'E:\\IA\\Proyecto 2 Where is Wally\\Prueba 2\\wiw12.png')\n",
    "\n",
    "gray = cv.cvtColor(image, cv.COLOR_BGR2GRAY)\n",
    "\n",
    "# Carga el xml\n",
    "wiw = cv.CascadeClassifier(r'E:\\IA\\Proyecto 2 Where is Wally\\Prueba 2\\entrenamiento.xml')\n",
    "\n",
    "# Parametros para detectar a wally\n",
    "wiw_detections = wiw.detectMultiScale(gray, scaleFactor=1.08, minNeighbors=10, minSize=(30,30))\n",
    "# Dibuja Rectangulos y pone el texto\n",
    "for (x, y, w, h) in wiw_detections:\n",
    "    cv.rectangle(image, (x, y), (x + w, y + h), (0, 255, 0), 2)\n",
    "    cv.putText(image, 'Wally', (x, y - 10), cv.FONT_HERSHEY_SIMPLEX, 0.9, (0, 255, 0), 2)\n",
    "\n",
    "# Muestra el resultado\n",
    "cv.imshow('¿Donde esta Wally?', image)\n",
    "cv.waitKey(0)\n",
    "cv.destroyAllWindows()"
   ]
  },
  {
   "cell_type": "code",
   "execution_count": null,
   "id": "74fd4d9a",
   "metadata": {},
   "outputs": [],
   "source": []
  }
 ],
 "metadata": {
  "kernelspec": {
   "display_name": "Python 3 (ipykernel)",
   "language": "python",
   "name": "python3"
  },
  "language_info": {
   "codemirror_mode": {
    "name": "ipython",
    "version": 3
   },
   "file_extension": ".py",
   "mimetype": "text/x-python",
   "name": "python",
   "nbconvert_exporter": "python",
   "pygments_lexer": "ipython3",
   "version": "3.11.5"
  }
 },
 "nbformat": 4,
 "nbformat_minor": 5
}
